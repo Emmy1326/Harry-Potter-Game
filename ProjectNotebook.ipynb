{
 "cells": [
  {
   "cell_type": "markdown",
   "metadata": {},
   "source": [
    "# Project Description"
   ]
  },
  {
   "cell_type": "markdown",
   "metadata": {},
   "source": [
    "My project is to create a function that will run a text-based game. \n",
    "By utilizing while loops in my code(each it's own self-contained scenario in the game), the user can make choices in the game that change and affect the current scenario.\n",
    "\n",
    "By inputting a string, the user triggers the value of the while loop to change, switching the user to a different while loop (and hense, different scenario). This way, the user can move between loops in a pattern cohesive to the story.\n",
    "\n",
    "To play the game, input your answer to the prompt into the input cell."
   ]
  },
  {
   "cell_type": "markdown",
   "metadata": {},
   "source": [
    "## Project Code\n",
    "\n",
    "If it makes sense for your project, you can have code and outputs here in the notebook as well."
   ]
  },
  {
   "cell_type": "code",
   "execution_count": 1,
   "metadata": {},
   "outputs": [],
   "source": [
    "from my_module.functions import HP_game , HP_start"
   ]
  },
  {
   "cell_type": "code",
   "execution_count": 2,
   "metadata": {},
   "outputs": [
    {
     "name": "stdout",
     "output_type": "stream",
     "text": [
      "Welcome to the Magical World of Witchcraft and Wizardry\n",
      "Input your answer into the box below to start the game!\n",
      "If you get stuck, see if the response is giving you a hint. If you still can't figure it out, look into the function code to find an acceptable answer\n"
     ]
    }
   ],
   "source": [
    "#Introduction\n",
    "HP_start()"
   ]
  },
  {
   "cell_type": "code",
   "execution_count": null,
   "metadata": {},
   "outputs": [
    {
     "name": "stdout",
     "output_type": "stream",
     "text": [
      "___________________________________________________________________\n",
      "Welcome to the Magical World of Witchcraft and Wizardry.\n",
      "___________________________________________________________________\n",
      "Chapter 1: The Magic Begins\n",
      "Happy birthday! Eleven years old? Wow! You're practically an adult now!\n",
      "But wait? You've opened all your presents, what's this mysterious letter?\n",
      "It's sealed with some fancy wax and a stamp. The writing is clearly addressed to you, written in green ink. But you dont recognize who sent it\n"
     ]
    }
   ],
   "source": [
    "#Text-Based Harry Potter Game\n",
    "HP_game()"
   ]
  },
  {
   "cell_type": "code",
   "execution_count": null,
   "metadata": {
    "collapsed": true
   },
   "outputs": [],
   "source": []
  }
 ],
 "metadata": {
  "kernelspec": {
   "display_name": "Python 3",
   "language": "python",
   "name": "python3"
  },
  "language_info": {
   "codemirror_mode": {
    "name": "ipython",
    "version": 3
   },
   "file_extension": ".py",
   "mimetype": "text/x-python",
   "name": "python",
   "nbconvert_exporter": "python",
   "pygments_lexer": "ipython3",
   "version": "3.6.5"
  }
 },
 "nbformat": 4,
 "nbformat_minor": 2
}
